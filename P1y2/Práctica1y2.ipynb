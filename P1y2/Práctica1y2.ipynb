{
  "nbformat": 4,
  "nbformat_minor": 0,
  "metadata": {
    "colab": {
      "provenance": [],
      "authorship_tag": "ABX9TyO8ffCzamTvWfsLNMujH2ha",
      "include_colab_link": true
    },
    "kernelspec": {
      "name": "python3",
      "display_name": "Python 3"
    },
    "language_info": {
      "name": "python"
    }
  },
  "cells": [
    {
      "cell_type": "markdown",
      "metadata": {
        "id": "view-in-github",
        "colab_type": "text"
      },
      "source": [
        "<a href=\"https://colab.research.google.com/github/hectornunezcalero/ProgAvan/blob/main/P1y2/Pr%C3%A1ctica1y2.ipynb\" target=\"_parent\"><img src=\"https://colab.research.google.com/assets/colab-badge.svg\" alt=\"Open In Colab\"/></a>"
      ]
    },
    {
      "cell_type": "markdown",
      "source": [
        "Héctor Núñez Calero"
      ],
      "metadata": {
        "id": "pTfzbHYcP_FX"
      }
    },
    {
      "cell_type": "markdown",
      "source": [
        "#Ejercicio 1"
      ],
      "metadata": {
        "id": "1S49aDH0PsYN"
      }
    },
    {
      "cell_type": "code",
      "source": [
        "# Genera la tabla de multiplicar del 1 al 5\n",
        "for i in range(1, 6):\n",
        "\n",
        "    if i % 2 == 0:\n",
        "        continue  # Utiliza continue para omitir números pares\n",
        "\n",
        "    print(f\"Tabla del {i}:\")\n",
        "\n",
        "    for j in range(1, 11):\n",
        "        producto = i * j\n",
        "\n",
        "        if producto > 20:\n",
        "            break # Utiliza break si el producto es mayor a 20\n",
        "\n",
        "        print(f\"{i} x {j} = {producto}\")\n",
        "        pass # Usa pass para ilustrar su uso sin afectar la lógica\n",
        "\n",
        "    print()  # Salto de línea para separar las tablas\n"
      ],
      "metadata": {
        "colab": {
          "base_uri": "https://localhost:8080/"
        },
        "id": "Z8tLF-USSnjQ",
        "outputId": "c6907578-44b6-4e6b-9243-4a575d761c56"
      },
      "execution_count": null,
      "outputs": [
        {
          "output_type": "stream",
          "name": "stdout",
          "text": [
            "Tabla del 1:\n",
            "1 x 1 = 1\n",
            "1 x 2 = 2\n",
            "1 x 3 = 3\n",
            "1 x 4 = 4\n",
            "1 x 5 = 5\n",
            "1 x 6 = 6\n",
            "1 x 7 = 7\n",
            "1 x 8 = 8\n",
            "1 x 9 = 9\n",
            "1 x 10 = 10\n",
            "\n",
            "Tabla del 3:\n",
            "3 x 1 = 3\n",
            "3 x 2 = 6\n",
            "3 x 3 = 9\n",
            "3 x 4 = 12\n",
            "3 x 5 = 15\n",
            "3 x 6 = 18\n",
            "\n",
            "Tabla del 5:\n",
            "5 x 1 = 5\n",
            "5 x 2 = 10\n",
            "5 x 3 = 15\n",
            "5 x 4 = 20\n",
            "\n"
          ]
        }
      ]
    },
    {
      "cell_type": "markdown",
      "source": [
        "# Ejercicio 2"
      ],
      "metadata": {
        "id": "RQmhbI2JBqVM"
      }
    },
    {
      "cell_type": "code",
      "source": [
        "def process_text(text, words_to_replace):\n",
        "\n",
        "  text = text.lower().strip()\n",
        "\n",
        "  w_replaced = 0\n",
        "  l_replaced = 0\n",
        "\n",
        "  for word in words_to_replace:\n",
        "    if word in text:\n",
        "      text = text.replace(word, len(word) * \"*\")\n",
        "\n",
        "  for word in text.split(): # .split() is needed for count words instead of counting letters\n",
        "    if \"*\" in word:\n",
        "      w_replaced += 1\n",
        "\n",
        "  for word in text: # Without .split(), count letters\n",
        "    if \"*\" in word:\n",
        "      l_replaced += 1\n",
        "\n",
        "  return text, w_replaced, l_replaced\n",
        "\n",
        "\n",
        "def main():\n",
        "\n",
        "  words_to_replace = [\"system\", \"hello\", \"goal\", \"method\", \"root\", \"python\"]\n",
        "  text = input()\n",
        "\n",
        "  processed_text, w_replacements, l_replacements = process_text(text, words_to_replace)\n",
        "\n",
        "  print(f\"Processed text: {processed_text}\")\n",
        "  print(f\"Number of words replaced: {w_replacements}\")\n",
        "  print(f\"Number of letters replaced: {l_replacements}\")\n",
        "\n",
        "if __name__ == \"__main__\":\n",
        "\n",
        "  main()"
      ],
      "metadata": {
        "id": "dbtj16Thic62",
        "colab": {
          "base_uri": "https://localhost:8080/"
        },
        "outputId": "f7846814-dc08-4224-e639-0e67be702462"
      },
      "execution_count": null,
      "outputs": [
        {
          "output_type": "stream",
          "name": "stdout",
          "text": [
            "hello, this is my goal\n",
            "Processed text: *****, this is my ****\n",
            "Number of words replaced: 2\n",
            "Number of letters replaced: 9\n"
          ]
        }
      ]
    },
    {
      "cell_type": "markdown",
      "source": [
        "# Ejercicio 3"
      ],
      "metadata": {
        "id": "l1Mm1qmfB-Ba"
      }
    },
    {
      "cell_type": "code",
      "source": [
        "# función para saber si un número es primo\n",
        "def is_prime(n):\n",
        "\n",
        "    if n <= 1:\n",
        "        return False\n",
        "    for i in range(2, int(n**0.5) + 1):\n",
        "        if n % i == 0:\n",
        "            return False\n",
        "    return True\n",
        "\n",
        "#función para hacer la lista de primos hasta el límite\n",
        "def prime_list(limit):\n",
        "\n",
        "    primes = []\n",
        "    for num in range(2, limit + 1):\n",
        "        if is_prime(num):\n",
        "            primes.append(num)\n",
        "    return primes\n",
        "\n",
        "#función para saber si los números primos son palíndromos\n",
        "def check_palindrome(primes):\n",
        "\n",
        "    palindromes = []\n",
        "    for prime in primes:\n",
        "        if str(prime) == str(prime)[::-1]:  # Comprobar si el número es palíndromo\n",
        "            palindromes.append(prime)\n",
        "    return palindromes\n",
        "\n",
        "#función para catalogar los números primos en pequeños, medianos o grandes\n",
        "def categorize_prime(prime):\n",
        "\n",
        "    if prime < 10:\n",
        "        return \"pequeños\"\n",
        "    elif 10 <= prime < 100:\n",
        "        return \"medianos\"\n",
        "    else:\n",
        "        return \"grandes\"\n",
        "\n",
        "#función principal\n",
        "def main():\n",
        "\n",
        "    # Solicitar al usuario que ingrese un límite\n",
        "    while True:\n",
        "        try:\n",
        "            limit = int(input(\"Ingrese un límite para los números primos: \"))\n",
        "            if limit < 2:  # Verificar que el límite sea mayor o igual a 2\n",
        "                print(\"Por favor, ingrese un número mayor o igual a 2.\")\n",
        "                continue\n",
        "            break  # Salir del bucle si la entrada es válida\n",
        "        except ValueError:\n",
        "            print(\"Por favor, ingrese un número entero válido.\")\n",
        "\n",
        "    primes = prime_list(limit)\n",
        "    print(f\"Números primos hasta {limit}: {primes}\")\n",
        "\n",
        "    palindromes = check_palindrome(primes)\n",
        "    print(f\"Palíndromos en la lista de números primos: {palindromes}\")\n",
        "\n",
        "    categorized_primes = { \"pequeños\": [], \"medianos\": [], \"grandes\": [] }\n",
        "    for prime in primes:\n",
        "        category = categorize_prime(prime)\n",
        "        categorized_primes[category].append(prime)\n",
        "\n",
        "    print(f\"Números primos clasificados:\")\n",
        "    for category, numbers in categorized_primes.items():\n",
        "        print(f\"{category.capitalize()}: {numbers}\")\n",
        "\n",
        "if __name__ == \"__main__\":\n",
        "    main()\n"
      ],
      "metadata": {
        "colab": {
          "base_uri": "https://localhost:8080/"
        },
        "id": "1G5PgK46CGHA",
        "outputId": "d8d5fcb5-71e2-475d-9c44-dfae92177603"
      },
      "execution_count": null,
      "outputs": [
        {
          "output_type": "stream",
          "name": "stdout",
          "text": [
            "Ingrese un límite para los números primos: 200\n",
            "Números primos hasta 200: [2, 3, 5, 7, 11, 13, 17, 19, 23, 29, 31, 37, 41, 43, 47, 53, 59, 61, 67, 71, 73, 79, 83, 89, 97, 101, 103, 107, 109, 113, 127, 131, 137, 139, 149, 151, 157, 163, 167, 173, 179, 181, 191, 193, 197, 199]\n",
            "Palíndromos en la lista de números primos: [2, 3, 5, 7, 11, 101, 131, 151, 181, 191]\n",
            "Números primos clasificados:\n",
            "Pequeños: [2, 3, 5, 7]\n",
            "Medianos: [11, 13, 17, 19, 23, 29, 31, 37, 41, 43, 47, 53, 59, 61, 67, 71, 73, 79, 83, 89, 97]\n",
            "Grandes: [101, 103, 107, 109, 113, 127, 131, 137, 139, 149, 151, 157, 163, 167, 173, 179, 181, 191, 193, 197, 199]\n"
          ]
        }
      ]
    },
    {
      "cell_type": "markdown",
      "source": [
        "# Ejercicio 4"
      ],
      "metadata": {
        "id": "zZwT4xuOWC7e"
      }
    },
    {
      "cell_type": "code",
      "source": [
        "def suma_total(numbers):\n",
        "    #Calcula la suma total de todos los números en la lista\n",
        "    return sum(numbers)\n",
        "\n",
        "def suma_positivos_negativos(numbers):\n",
        "    #Calcula la suma de los números positivos y negativos por separado\n",
        "    suma_positivos = sum(num for num in numbers if num > 0)\n",
        "    suma_negativos = sum(num for num in numbers if num < 0)\n",
        "    return suma_positivos, suma_negativos\n",
        "\n",
        "def max_min(numbers):\n",
        "    #Encuentra el número máximo y mínimo de la lista\n",
        "    return max(numbers), min(numbers)\n",
        "\n",
        "def son_unicos(numbers):\n",
        "    #Comprueba si todos los números de la lista son únicos\n",
        "    return len(numbers) == len(set(numbers))\n",
        "\n",
        "def comparar_positivos_negativos(numbers):\n",
        "    #Devuelve un mensaje sobre si hay más números positivos o negativos\n",
        "    positivos = sum(1 for num in numbers if num > 0)\n",
        "    negativos = sum(1 for num in numbers if num < 0)\n",
        "    return \"más positivos\" if positivos > negativos else \"más negativos\" if negativos > positivos else \"la misma cantidad\"\n",
        "\n",
        "def main():\n",
        "    #Función principal que ejecuta el menú de opciones\n",
        "    #Lee una lista de números enteros desde el usuario\n",
        "    numbers = list(map(int, input(\"Ingrese una lista de números enteros separados por espacios: \").split()))\n",
        "\n",
        "    while True:\n",
        "        print(\"\\nMenu:\")\n",
        "        print(\"1. Calcular la suma de todos los números\")\n",
        "        print(\"2. Calcular la suma de números positivos y negativos por separado\")\n",
        "        print(\"3. Encontrar el número máximo y mínimo de la lista\")\n",
        "        print(\"4. Comprobar si todos los números son únicos\")\n",
        "        print(\"5. Comparar la cantidad de números positivos y negativos\")\n",
        "        print(\"0. Salir\")\n",
        "\n",
        "        opcion = input(\"Seleccione una opción: \")\n",
        "\n",
        "        match opcion:\n",
        "            case '1':\n",
        "                print(f\"\\nSuma total: {suma_total(numbers)}\\n\")\n",
        "            case '2':\n",
        "                suma_pos, suma_neg = suma_positivos_negativos(numbers)\n",
        "                print(f\"\\nSuma de números positivos: {suma_pos}, Suma de números negativos: {suma_neg}\\n\")\n",
        "            case '3':\n",
        "                max_num, min_num = max_min(numbers)\n",
        "                print(f\"\\nNúmero máximo: {max_num}, Número mínimo: {min_num}\\n\")\n",
        "            case '4':\n",
        "                if son_unicos(numbers):\n",
        "                    print(\"\\nTodos los números son únicos.\\n\")\n",
        "                else:\n",
        "                    print(\"\\nHay números repetidos en la lista.\\n\")\n",
        "            case '5':\n",
        "                resultado = comparar_positivos_negativos(numbers)\n",
        "                print(f\"\\nLa lista contiene {resultado}.\\n\")\n",
        "            case '0':\n",
        "                print(\"\\nSaliendo del programa.\\n\")\n",
        "                break #Sale del bucle while\n",
        "            case _:\n",
        "                print(\"\\nOpción no válida, por favor intente de nuevo.\\n\")\n",
        "\n",
        "if __name__ == \"__main__\":\n",
        "    main()\n"
      ],
      "metadata": {
        "colab": {
          "base_uri": "https://localhost:8080/"
        },
        "id": "cw04vsjoWIWQ",
        "outputId": "dd6484ab-22ab-40bd-b3e4-f5d6c0e2dbb3"
      },
      "execution_count": null,
      "outputs": [
        {
          "output_type": "stream",
          "name": "stdout",
          "text": [
            "Ingrese una lista de números enteros separados por espacios: 1 2 -1 -2 -3\n",
            "\n",
            "Menu:\n",
            "1. Calcular la suma de todos los números\n",
            "2. Calcular la suma de números positivos y negativos por separado\n",
            "3. Encontrar el número máximo y mínimo de la lista\n",
            "4. Comprobar si todos los números son únicos\n",
            "5. Comparar la cantidad de números positivos y negativos\n",
            "0. Salir\n",
            "Seleccione una opción: 1\n",
            "\n",
            "Suma total: -3\n",
            "\n",
            "\n",
            "Menu:\n",
            "1. Calcular la suma de todos los números\n",
            "2. Calcular la suma de números positivos y negativos por separado\n",
            "3. Encontrar el número máximo y mínimo de la lista\n",
            "4. Comprobar si todos los números son únicos\n",
            "5. Comparar la cantidad de números positivos y negativos\n",
            "0. Salir\n",
            "Seleccione una opción: 2\n",
            "\n",
            "Suma de números positivos: 3, Suma de números negativos: -6\n",
            "\n",
            "\n",
            "Menu:\n",
            "1. Calcular la suma de todos los números\n",
            "2. Calcular la suma de números positivos y negativos por separado\n",
            "3. Encontrar el número máximo y mínimo de la lista\n",
            "4. Comprobar si todos los números son únicos\n",
            "5. Comparar la cantidad de números positivos y negativos\n",
            "0. Salir\n",
            "Seleccione una opción: 3\n",
            "\n",
            "Número máximo: 2, Número mínimo: -3\n",
            "\n",
            "\n",
            "Menu:\n",
            "1. Calcular la suma de todos los números\n",
            "2. Calcular la suma de números positivos y negativos por separado\n",
            "3. Encontrar el número máximo y mínimo de la lista\n",
            "4. Comprobar si todos los números son únicos\n",
            "5. Comparar la cantidad de números positivos y negativos\n",
            "0. Salir\n",
            "Seleccione una opción: 4\n",
            "\n",
            "Todos los números son únicos.\n",
            "\n",
            "\n",
            "Menu:\n",
            "1. Calcular la suma de todos los números\n",
            "2. Calcular la suma de números positivos y negativos por separado\n",
            "3. Encontrar el número máximo y mínimo de la lista\n",
            "4. Comprobar si todos los números son únicos\n",
            "5. Comparar la cantidad de números positivos y negativos\n",
            "0. Salir\n",
            "Seleccione una opción: 5\n",
            "\n",
            "La lista contiene más negativos.\n",
            "\n",
            "\n",
            "Menu:\n",
            "1. Calcular la suma de todos los números\n",
            "2. Calcular la suma de números positivos y negativos por separado\n",
            "3. Encontrar el número máximo y mínimo de la lista\n",
            "4. Comprobar si todos los números son únicos\n",
            "5. Comparar la cantidad de números positivos y negativos\n",
            "0. Salir\n",
            "Seleccione una opción: 0\n",
            "\n",
            "Saliendo del programa.\n",
            "\n"
          ]
        }
      ]
    },
    {
      "cell_type": "markdown",
      "source": [
        "# Ejercicio 5\n"
      ],
      "metadata": {
        "id": "iI4bUzbknCXs"
      }
    },
    {
      "cell_type": "code",
      "source": [
        "# Variable global para almacenar la lista de tareas\n",
        "tasks = []\n",
        "\n",
        "def add_task(task):\n",
        "    \"\"\"Agrega una nueva tarea a la lista global de tareas.\"\"\"\n",
        "    tasks.append(task)\n",
        "    print(f\"Tarea '{task}' agregada.\")\n",
        "\n",
        "def remove_task(task):\n",
        "    \"\"\"Elimina una tarea de la lista global de tareas, si existe.\"\"\"\n",
        "    try:\n",
        "        tasks.remove(task)\n",
        "        print(f\"Tarea '{task}' eliminada.\")\n",
        "    except ValueError:\n",
        "        print(f\"Tarea '{task}' no encontrada.\")\n",
        "\n",
        "def list_tasks():\n",
        "    \"\"\"Enumera todas las tareas almacenadas en la lista global de tareas.\"\"\"\n",
        "    if not tasks:\n",
        "        print(\"No hay tareas en la lista.\")\n",
        "    else:\n",
        "        print(\"\\nLista de tareas:\\n\")\n",
        "        for index, task in enumerate(tasks, start=1):\n",
        "            print(f\"{index}. {task}\")\n",
        "\n",
        "def task_manager():\n",
        "    \"\"\"Administra las operaciones de agregar, modificar y enumerar tareas.\"\"\"\n",
        "\n",
        "    def modify_task():\n",
        "        \"\"\"Modifica la primera tarea en la lista de tareas.\"\"\"\n",
        "        if tasks:\n",
        "            old_task = tasks[0]\n",
        "            new_task = old_task + \" (modificada)\"\n",
        "            tasks[0] = new_task\n",
        "            print(f\"Tarea '{old_task}' modificada a '{new_task}'.\")\n",
        "        else:\n",
        "            print(\"No hay tareas para modificar.\")\n",
        "\n",
        "    while True:\n",
        "        print(\"\\nMenu:\")\n",
        "        print(\"1. Agregar tarea\")\n",
        "        print(\"2. Modificar tarea\")\n",
        "        print(\"3. Listar tareas\")\n",
        "        print(\"4. Eliminar tarea\")\n",
        "        print(\"0. Salir\")\n",
        "\n",
        "        opcion = input(\"Seleccione una opción: \")\n",
        "\n",
        "        match opcion:\n",
        "            case '1':\n",
        "                tarea = input(\"Ingrese la tarea a agregar: \")\n",
        "                add_task(tarea)\n",
        "            case '2':\n",
        "                modify_task()\n",
        "            case '3':\n",
        "                list_tasks()\n",
        "            case '4':\n",
        "                tarea = input(\"Ingrese la tarea a eliminar: \")\n",
        "                remove_task(tarea)\n",
        "            case '0':\n",
        "                print(\"Saliendo del programa.\")\n",
        "                break\n",
        "            case _:\n",
        "                print(\"Opción no válida, por favor intente de nuevo.\")\n",
        "\n",
        "def main():\n",
        "    \"\"\"Función principal para ejecutar el programa.\"\"\"\n",
        "    task_manager()\n",
        "\n",
        "if __name__ == \"__main__\":\n",
        "    main()\n"
      ],
      "metadata": {
        "colab": {
          "base_uri": "https://localhost:8080/"
        },
        "id": "jtpf6klPnIeo",
        "outputId": "044c88dd-17a5-45f0-e7dc-8202bdcf774b"
      },
      "execution_count": null,
      "outputs": [
        {
          "output_type": "stream",
          "name": "stdout",
          "text": [
            "\n",
            "Menu:\n",
            "1. Agregar tarea\n",
            "2. Modificar tarea\n",
            "3. Listar tareas\n",
            "4. Eliminar tarea\n",
            "0. Salir\n",
            "Seleccione una opción: 0\n",
            "Saliendo del programa.\n"
          ]
        }
      ]
    },
    {
      "cell_type": "markdown",
      "source": [
        "# Ejercicio 6"
      ],
      "metadata": {
        "id": "7s1HugRNqOLS"
      }
    },
    {
      "cell_type": "code",
      "source": [],
      "metadata": {
        "id": "x5T-ylIZqTPu"
      },
      "execution_count": null,
      "outputs": []
    }
  ]
}