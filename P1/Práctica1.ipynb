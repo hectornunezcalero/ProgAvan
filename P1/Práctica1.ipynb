{
  "nbformat": 4,
  "nbformat_minor": 0,
  "metadata": {
    "colab": {
      "provenance": [],
      "authorship_tag": "ABX9TyM/jjbZkpIAJNA2xq1VncSI",
      "include_colab_link": true
    },
    "kernelspec": {
      "name": "python3",
      "display_name": "Python 3"
    },
    "language_info": {
      "name": "python"
    }
  },
  "cells": [
    {
      "cell_type": "markdown",
      "metadata": {
        "id": "view-in-github",
        "colab_type": "text"
      },
      "source": [
        "<a href=\"https://colab.research.google.com/github/hectornunezcalero/ProgAvan/blob/main/P1/Pr%C3%A1ctica1.ipynb\" target=\"_parent\"><img src=\"https://colab.research.google.com/assets/colab-badge.svg\" alt=\"Open In Colab\"/></a>"
      ]
    },
    {
      "cell_type": "markdown",
      "source": [
        "Héctor Núñez Calero"
      ],
      "metadata": {
        "id": "pTfzbHYcP_FX"
      }
    },
    {
      "cell_type": "markdown",
      "source": [
        "#Ejercicio 1"
      ],
      "metadata": {
        "id": "1S49aDH0PsYN"
      }
    },
    {
      "cell_type": "code",
      "source": [
        "# Genera la tabla de multiplicar del 1 al 5\n",
        "for i in range(1, 6):\n",
        "    # Utiliza continue para omitir números pares\n",
        "    if i % 2 == 0:\n",
        "        continue\n",
        "\n",
        "    print(f\"Tabla del {i}:\")\n",
        "\n",
        "    for j in range(1, 11):\n",
        "        producto = i * j\n",
        "\n",
        "        # Utiliza break si el producto es mayor a 20\n",
        "        if producto > 20:\n",
        "            break\n",
        "\n",
        "        print(f\"{i} x {j} = {producto}\")\n",
        "\n",
        "        # Usa pass para ilustrar su uso sin afectar la lógica\n",
        "        pass\n",
        "\n",
        "    print()  # Salto de línea para separar las tablas\n"
      ],
      "metadata": {
        "colab": {
          "base_uri": "https://localhost:8080/"
        },
        "id": "Z8tLF-USSnjQ",
        "outputId": "b10da3dd-7ef7-440b-a763-6ad7c15a7004"
      },
      "execution_count": 1,
      "outputs": [
        {
          "output_type": "stream",
          "name": "stdout",
          "text": [
            "Tabla del 1:\n",
            "1 x 1 = 1\n",
            "1 x 2 = 2\n",
            "1 x 3 = 3\n",
            "1 x 4 = 4\n",
            "1 x 5 = 5\n",
            "1 x 6 = 6\n",
            "1 x 7 = 7\n",
            "1 x 8 = 8\n",
            "1 x 9 = 9\n",
            "1 x 10 = 10\n",
            "\n",
            "Tabla del 3:\n",
            "3 x 1 = 3\n",
            "3 x 2 = 6\n",
            "3 x 3 = 9\n",
            "3 x 4 = 12\n",
            "3 x 5 = 15\n",
            "3 x 6 = 18\n",
            "\n",
            "Tabla del 5:\n",
            "5 x 1 = 5\n",
            "5 x 2 = 10\n",
            "5 x 3 = 15\n",
            "5 x 4 = 20\n",
            "\n"
          ]
        }
      ]
    }
  ]
}